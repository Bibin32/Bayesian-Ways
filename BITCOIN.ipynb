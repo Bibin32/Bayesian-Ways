{
  "nbformat": 4,
  "nbformat_minor": 0,
  "metadata": {
    "colab": {
      "provenance": []
    },
    "kernelspec": {
      "name": "python3",
      "display_name": "Python 3"
    },
    "language_info": {
      "name": "python"
    }
  },
  "cells": [
    {
      "cell_type": "code",
      "execution_count": null,
      "metadata": {
        "id": "GkTlVKttiWi9"
      },
      "outputs": [],
      "source": [
        "# import urllib library\n",
        "from urllib.request import urlopen"
      ]
    },
    {
      "cell_type": "code",
      "source": [
        "# import json\n",
        "import json\n",
        "# store the URL in url as \n",
        "# parameter for urlopen\n",
        "url = \"https://api.coindesk.com/v1/bpi/currentprice.json\""
      ],
      "metadata": {
        "id": "oCiPzBVyibTn"
      },
      "execution_count": null,
      "outputs": []
    },
    {
      "cell_type": "code",
      "source": [
        "import csv\n",
        "import flatdict\n",
        "import pandas as pd"
      ],
      "metadata": {
        "id": "HcwI1lu6j2tK"
      },
      "execution_count": null,
      "outputs": []
    },
    {
      "cell_type": "code",
      "source": [
        "df=pd.read_csv('USD&GBP.csv')"
      ],
      "metadata": {
        "id": "cojDgKF5aLCG"
      },
      "execution_count": null,
      "outputs": []
    },
    {
      "cell_type": "code",
      "source": [
        "def csvframe(z):\n",
        "  d =  flatdict.FlatDict(z, delimiter='.')\n",
        "  dt=dict(d)\n",
        "  new = pd.DataFrame.from_dict([dt])\n",
        "  df.update(new)\n",
        "  print(df)"
      ],
      "metadata": {
        "id": "Voa2cnr9z9FL"
      },
      "execution_count": null,
      "outputs": []
    },
    {
      "cell_type": "code",
      "source": [
        "import schedule\n",
        "import time\n",
        "  \n",
        "def func():\n",
        "  response = urlopen(url)\n",
        "  # storing the JSON response \n",
        "  # from url in data\n",
        "  data_json = json.loads(response.read())\n",
        "  \n",
        "  # print the json response\n",
        "  print(data_json)\n",
        "  csvframe(data_json)\n",
        " \n",
        "#schedule.every(1).minutes.do(func)\n",
        "schedule.every(1).to(3).minutes.do(func)\n",
        "  \n",
        "while True:\n",
        "    schedule.run_pending()\n",
        "    time.sleep(1)"
      ],
      "metadata": {
        "id": "QEbLYogdiiw2",
        "colab": {
          "base_uri": "https://localhost:8080/"
        },
        "outputId": "26e675c5-0d33-4de1-9624-0f5bddbbd6ac"
      },
      "execution_count": null,
      "outputs": [
        {
          "output_type": "stream",
          "name": "stdout",
          "text": [
            "{'time': {'updated': 'Jan 16, 2023 09:16:00 UTC', 'updatedISO': '2023-01-16T09:16:00+00:00', 'updateduk': 'Jan 16, 2023 at 09:16 GMT'}, 'disclaimer': 'This data was produced from the CoinDesk Bitcoin Price Index (USD). Non-USD currency data converted using hourly conversion rate from openexchangerates.org', 'chartName': 'Bitcoin', 'bpi': {'USD': {'code': 'USD', 'symbol': '&#36;', 'rate': '20,833.0214', 'description': 'United States Dollar', 'rate_float': 20833.0214}, 'GBP': {'code': 'GBP', 'symbol': '&pound;', 'rate': '17,407.9060', 'description': 'British Pound Sterling', 'rate_float': 17407.906}, 'EUR': {'code': 'EUR', 'symbol': '&euro;', 'rate': '20,294.4045', 'description': 'Euro', 'rate_float': 20294.4045}}}\n",
            "   Unnamed: 0               time.updated            time.updatedISO  \\\n",
            "0           0  Jan 16, 2023 09:16:00 UTC  2023-01-16T09:16:00+00:00   \n",
            "\n",
            "              time.updateduk  \\\n",
            "0  Jan 16, 2023 at 09:16 GMT   \n",
            "\n",
            "                                          disclaimer chartName bpi.USD.code  \\\n",
            "0  This data was produced from the CoinDesk Bitco...   Bitcoin          USD   \n",
            "\n",
            "  bpi.USD.symbol bpi.USD.rate   bpi.USD.description  ...  bpi.GBP.code  \\\n",
            "0          &#36;  20,833.0214  United States Dollar  ...           GBP   \n",
            "\n",
            "  bpi.GBP.symbol bpi.GBP.rate     bpi.GBP.description bpi.GBP.rate_float  \\\n",
            "0        &pound;  17,407.9060  British Pound Sterling          17407.906   \n",
            "\n",
            "   bpi.EUR.code bpi.EUR.symbol bpi.EUR.rate bpi.EUR.description  \\\n",
            "0           EUR         &euro;  20,294.4045                Euro   \n",
            "\n",
            "  bpi.EUR.rate_float  \n",
            "0         20294.4045  \n",
            "\n",
            "[1 rows x 21 columns]\n",
            "{'time': {'updated': 'Jan 16, 2023 09:19:00 UTC', 'updatedISO': '2023-01-16T09:19:00+00:00', 'updateduk': 'Jan 16, 2023 at 09:19 GMT'}, 'disclaimer': 'This data was produced from the CoinDesk Bitcoin Price Index (USD). Non-USD currency data converted using hourly conversion rate from openexchangerates.org', 'chartName': 'Bitcoin', 'bpi': {'USD': {'code': 'USD', 'symbol': '&#36;', 'rate': '20,817.3059', 'description': 'United States Dollar', 'rate_float': 20817.3059}, 'GBP': {'code': 'GBP', 'symbol': '&pound;', 'rate': '17,394.7743', 'description': 'British Pound Sterling', 'rate_float': 17394.7743}, 'EUR': {'code': 'EUR', 'symbol': '&euro;', 'rate': '20,279.0953', 'description': 'Euro', 'rate_float': 20279.0953}}}\n",
            "   Unnamed: 0               time.updated            time.updatedISO  \\\n",
            "0           0  Jan 16, 2023 09:19:00 UTC  2023-01-16T09:19:00+00:00   \n",
            "\n",
            "              time.updateduk  \\\n",
            "0  Jan 16, 2023 at 09:19 GMT   \n",
            "\n",
            "                                          disclaimer chartName bpi.USD.code  \\\n",
            "0  This data was produced from the CoinDesk Bitco...   Bitcoin          USD   \n",
            "\n",
            "  bpi.USD.symbol bpi.USD.rate   bpi.USD.description  ...  bpi.GBP.code  \\\n",
            "0          &#36;  20,817.3059  United States Dollar  ...           GBP   \n",
            "\n",
            "  bpi.GBP.symbol bpi.GBP.rate     bpi.GBP.description bpi.GBP.rate_float  \\\n",
            "0        &pound;  17,394.7743  British Pound Sterling         17394.7743   \n",
            "\n",
            "   bpi.EUR.code bpi.EUR.symbol bpi.EUR.rate bpi.EUR.description  \\\n",
            "0           EUR         &euro;  20,279.0953                Euro   \n",
            "\n",
            "  bpi.EUR.rate_float  \n",
            "0         20279.0953  \n",
            "\n",
            "[1 rows x 21 columns]\n"
          ]
        }
      ]
    },
    {
      "cell_type": "code",
      "source": [
        "!pip install flatdict"
      ],
      "metadata": {
        "colab": {
          "base_uri": "https://localhost:8080/"
        },
        "id": "uYzSMdwMP5OS",
        "outputId": "57a21c0c-dd65-467a-ff5e-d71d651dd06d"
      },
      "execution_count": null,
      "outputs": [
        {
          "output_type": "stream",
          "name": "stdout",
          "text": [
            "Looking in indexes: https://pypi.org/simple, https://us-python.pkg.dev/colab-wheels/public/simple/\n",
            "Collecting flatdict\n",
            "  Downloading flatdict-4.0.1.tar.gz (8.3 kB)\n",
            "  Preparing metadata (setup.py) ... \u001b[?25l\u001b[?25hdone\n",
            "Building wheels for collected packages: flatdict\n",
            "  Building wheel for flatdict (setup.py) ... \u001b[?25l\u001b[?25hdone\n",
            "  Created wheel for flatdict: filename=flatdict-4.0.1-py3-none-any.whl size=6946 sha256=fca84ce84c0c3adb9b664265b1df4a958432f555b0486284ea91c320f6885f5d\n",
            "  Stored in directory: /root/.cache/pip/wheels/93/67/8f/9d074db7f341c7a487f1dfb9758390cf8108f87ab78fda89ef\n",
            "Successfully built flatdict\n",
            "Installing collected packages: flatdict\n",
            "Successfully installed flatdict-4.0.1\n"
          ]
        }
      ]
    },
    {
      "cell_type": "code",
      "source": [
        "!pip install schedule"
      ],
      "metadata": {
        "colab": {
          "base_uri": "https://localhost:8080/"
        },
        "id": "2b_g7PatbmZ7",
        "outputId": "e98c231f-c6db-4f05-b742-6d719025c32f"
      },
      "execution_count": null,
      "outputs": [
        {
          "output_type": "stream",
          "name": "stdout",
          "text": [
            "Looking in indexes: https://pypi.org/simple, https://us-python.pkg.dev/colab-wheels/public/simple/\n",
            "Collecting schedule\n",
            "  Downloading schedule-1.1.0-py2.py3-none-any.whl (10 kB)\n",
            "Installing collected packages: schedule\n",
            "Successfully installed schedule-1.1.0\n"
          ]
        }
      ]
    },
    {
      "cell_type": "code",
      "source": [
        "!pip install time"
      ],
      "metadata": {
        "colab": {
          "base_uri": "https://localhost:8080/"
        },
        "id": "Kf7gBn8hbxvP",
        "outputId": "a0530532-620a-41e5-e3df-08d04913a543"
      },
      "execution_count": null,
      "outputs": [
        {
          "output_type": "stream",
          "name": "stdout",
          "text": [
            "Looking in indexes: https://pypi.org/simple, https://us-python.pkg.dev/colab-wheels/public/simple/\n",
            "\u001b[31mERROR: Could not find a version that satisfies the requirement time (from versions: none)\u001b[0m\u001b[31m\n",
            "\u001b[0m\u001b[31mERROR: No matching distribution found for time\u001b[0m\u001b[31m\n",
            "\u001b[0m"
          ]
        }
      ]
    },
    {
      "cell_type": "code",
      "source": [
        "import flatdict\n",
        "d =  flatdict.FlatDict(data_json, delimiter='.')"
      ],
      "metadata": {
        "id": "QONWvD6tNILH"
      },
      "execution_count": null,
      "outputs": []
    },
    {
      "cell_type": "code",
      "source": [
        "d"
      ],
      "metadata": {
        "colab": {
          "base_uri": "https://localhost:8080/"
        },
        "id": "ZpXU4pZVQFYG",
        "outputId": "c1434734-2077-48cf-90f1-5a4a26cd4436"
      },
      "execution_count": null,
      "outputs": [
        {
          "output_type": "execute_result",
          "data": {
            "text/plain": [
              "<FlatDict id=140157770057472 {'time.updated': 'Jan 16, 2023 05:43:00 UTC', 'time.updatedISO': '2023-01-16T05:43:00+00:00', 'time.updateduk': 'Jan 16, 2023 at 05:43 GMT', 'disclaimer': 'This data was produced from the CoinDesk Bitcoin Price Index (USD). Non-USD currency data converted using hourly conversion rate from openexchangerates.org', 'chartName': 'Bitcoin', 'bpi.USD.code': 'USD', 'bpi.USD.symbol': '&#36;', 'bpi.USD.rate': '21,187.9492', 'bpi.USD.description': 'United States Dollar', 'bpi.USD.rate_float': 21187.9492, 'bpi.GBP.code': 'GBP', 'bpi.GBP.symbol': '&pound;', 'bpi.GBP.rate': '17,704.4808', 'bpi.GBP.description': 'British Pound Sterling', 'bpi.GBP.rate_float': 17704.4808, 'bpi.EUR.code': 'EUR', 'bpi.EUR.symbol': '&euro;', 'bpi.EUR.rate': '20,640.1559', 'bpi.EUR.description': 'Euro', 'bpi.EUR.rate_float': 20640.1559}>\""
            ]
          },
          "metadata": {},
          "execution_count": 24
        }
      ]
    },
    {
      "cell_type": "code",
      "source": [
        "dt=dict(d)"
      ],
      "metadata": {
        "id": "F4ScZotWRwQt"
      },
      "execution_count": null,
      "outputs": []
    },
    {
      "cell_type": "code",
      "source": [
        "dt"
      ],
      "metadata": {
        "colab": {
          "base_uri": "https://localhost:8080/"
        },
        "id": "55i4yO43UhqA",
        "outputId": "7ef9d9e4-5c9f-4818-a456-b8b9be5b5077"
      },
      "execution_count": null,
      "outputs": [
        {
          "output_type": "execute_result",
          "data": {
            "text/plain": [
              "{'time.updated': 'Jan 16, 2023 05:43:00 UTC',\n",
              " 'time.updatedISO': '2023-01-16T05:43:00+00:00',\n",
              " 'time.updateduk': 'Jan 16, 2023 at 05:43 GMT',\n",
              " 'disclaimer': 'This data was produced from the CoinDesk Bitcoin Price Index (USD). Non-USD currency data converted using hourly conversion rate from openexchangerates.org',\n",
              " 'chartName': 'Bitcoin',\n",
              " 'bpi.USD.code': 'USD',\n",
              " 'bpi.USD.symbol': '&#36;',\n",
              " 'bpi.USD.rate': '21,187.9492',\n",
              " 'bpi.USD.description': 'United States Dollar',\n",
              " 'bpi.USD.rate_float': 21187.9492,\n",
              " 'bpi.GBP.code': 'GBP',\n",
              " 'bpi.GBP.symbol': '&pound;',\n",
              " 'bpi.GBP.rate': '17,704.4808',\n",
              " 'bpi.GBP.description': 'British Pound Sterling',\n",
              " 'bpi.GBP.rate_float': 17704.4808,\n",
              " 'bpi.EUR.code': 'EUR',\n",
              " 'bpi.EUR.symbol': '&euro;',\n",
              " 'bpi.EUR.rate': '20,640.1559',\n",
              " 'bpi.EUR.description': 'Euro',\n",
              " 'bpi.EUR.rate_float': 20640.1559}"
            ]
          },
          "metadata": {},
          "execution_count": 43
        }
      ]
    },
    {
      "cell_type": "code",
      "source": [
        "import pandas as pd\n",
        "new = pd.DataFrame.from_dict([dt])"
      ],
      "metadata": {
        "id": "4y1xLEVoVK1-"
      },
      "execution_count": null,
      "outputs": []
    },
    {
      "cell_type": "code",
      "source": [
        "new"
      ],
      "metadata": {
        "colab": {
          "base_uri": "https://localhost:8080/",
          "height": 169
        },
        "id": "0qUSyT2AVomu",
        "outputId": "073a7249-bb95-40ad-bfee-2e398512a485"
      },
      "execution_count": null,
      "outputs": [
        {
          "output_type": "error",
          "ename": "NameError",
          "evalue": "ignored",
          "traceback": [
            "\u001b[0;31m---------------------------------------------------------------------------\u001b[0m",
            "\u001b[0;31mNameError\u001b[0m                                 Traceback (most recent call last)",
            "\u001b[0;32m<ipython-input-7-389cc6b7ae5a>\u001b[0m in \u001b[0;36m<module>\u001b[0;34m\u001b[0m\n\u001b[0;32m----> 1\u001b[0;31m \u001b[0mnew\u001b[0m\u001b[0;34m\u001b[0m\u001b[0;34m\u001b[0m\u001b[0m\n\u001b[0m",
            "\u001b[0;31mNameError\u001b[0m: name 'new' is not defined"
          ]
        }
      ]
    },
    {
      "cell_type": "code",
      "source": [
        "new.to_csv('USD&GBP.csv')"
      ],
      "metadata": {
        "id": "emrSj1QqXNzn"
      },
      "execution_count": null,
      "outputs": []
    },
    {
      "cell_type": "code",
      "source": [
        "df=pd.read_csv('USD&GBP.csv')"
      ],
      "metadata": {
        "id": "cHUeVxfPYVE5"
      },
      "execution_count": null,
      "outputs": []
    },
    {
      "cell_type": "code",
      "source": [
        "df.head()"
      ],
      "metadata": {
        "colab": {
          "base_uri": "https://localhost:8080/",
          "height": 278
        },
        "id": "xJcF4s_RYgcZ",
        "outputId": "5fe0f553-26f2-49fe-fa56-ae95cd707a19"
      },
      "execution_count": null,
      "outputs": [
        {
          "output_type": "execute_result",
          "data": {
            "text/plain": [
              "   Unnamed: 0               time.updated            time.updatedISO  \\\n",
              "0           0  Jan 16, 2023 09:04:00 UTC  2023-01-16T09:04:00+00:00   \n",
              "\n",
              "              time.updateduk  \\\n",
              "0  Jan 16, 2023 at 09:04 GMT   \n",
              "\n",
              "                                          disclaimer chartName bpi.USD.code  \\\n",
              "0  This data was produced from the CoinDesk Bitco...   Bitcoin          USD   \n",
              "\n",
              "  bpi.USD.symbol bpi.USD.rate   bpi.USD.description  ...  bpi.GBP.code  \\\n",
              "0          &#36;  20,755.5142  United States Dollar  ...           GBP   \n",
              "\n",
              "  bpi.GBP.symbol bpi.GBP.rate     bpi.GBP.description bpi.GBP.rate_float  \\\n",
              "0        &pound;  17,343.1416  British Pound Sterling         17343.1416   \n",
              "\n",
              "   bpi.EUR.code bpi.EUR.symbol bpi.EUR.rate bpi.EUR.description  \\\n",
              "0           EUR         &euro;  20,218.9011                Euro   \n",
              "\n",
              "  bpi.EUR.rate_float  \n",
              "0         20218.9011  \n",
              "\n",
              "[1 rows x 21 columns]"
            ],
            "text/html": [
              "\n",
              "  <div id=\"df-f72a9e5e-c9a6-4c38-b671-c6231c6ca173\">\n",
              "    <div class=\"colab-df-container\">\n",
              "      <div>\n",
              "<style scoped>\n",
              "    .dataframe tbody tr th:only-of-type {\n",
              "        vertical-align: middle;\n",
              "    }\n",
              "\n",
              "    .dataframe tbody tr th {\n",
              "        vertical-align: top;\n",
              "    }\n",
              "\n",
              "    .dataframe thead th {\n",
              "        text-align: right;\n",
              "    }\n",
              "</style>\n",
              "<table border=\"1\" class=\"dataframe\">\n",
              "  <thead>\n",
              "    <tr style=\"text-align: right;\">\n",
              "      <th></th>\n",
              "      <th>Unnamed: 0</th>\n",
              "      <th>time.updated</th>\n",
              "      <th>time.updatedISO</th>\n",
              "      <th>time.updateduk</th>\n",
              "      <th>disclaimer</th>\n",
              "      <th>chartName</th>\n",
              "      <th>bpi.USD.code</th>\n",
              "      <th>bpi.USD.symbol</th>\n",
              "      <th>bpi.USD.rate</th>\n",
              "      <th>bpi.USD.description</th>\n",
              "      <th>...</th>\n",
              "      <th>bpi.GBP.code</th>\n",
              "      <th>bpi.GBP.symbol</th>\n",
              "      <th>bpi.GBP.rate</th>\n",
              "      <th>bpi.GBP.description</th>\n",
              "      <th>bpi.GBP.rate_float</th>\n",
              "      <th>bpi.EUR.code</th>\n",
              "      <th>bpi.EUR.symbol</th>\n",
              "      <th>bpi.EUR.rate</th>\n",
              "      <th>bpi.EUR.description</th>\n",
              "      <th>bpi.EUR.rate_float</th>\n",
              "    </tr>\n",
              "  </thead>\n",
              "  <tbody>\n",
              "    <tr>\n",
              "      <th>0</th>\n",
              "      <td>0</td>\n",
              "      <td>Jan 16, 2023 09:04:00 UTC</td>\n",
              "      <td>2023-01-16T09:04:00+00:00</td>\n",
              "      <td>Jan 16, 2023 at 09:04 GMT</td>\n",
              "      <td>This data was produced from the CoinDesk Bitco...</td>\n",
              "      <td>Bitcoin</td>\n",
              "      <td>USD</td>\n",
              "      <td>&amp;#36;</td>\n",
              "      <td>20,755.5142</td>\n",
              "      <td>United States Dollar</td>\n",
              "      <td>...</td>\n",
              "      <td>GBP</td>\n",
              "      <td>&amp;pound;</td>\n",
              "      <td>17,343.1416</td>\n",
              "      <td>British Pound Sterling</td>\n",
              "      <td>17343.1416</td>\n",
              "      <td>EUR</td>\n",
              "      <td>&amp;euro;</td>\n",
              "      <td>20,218.9011</td>\n",
              "      <td>Euro</td>\n",
              "      <td>20218.9011</td>\n",
              "    </tr>\n",
              "  </tbody>\n",
              "</table>\n",
              "<p>1 rows × 21 columns</p>\n",
              "</div>\n",
              "      <button class=\"colab-df-convert\" onclick=\"convertToInteractive('df-f72a9e5e-c9a6-4c38-b671-c6231c6ca173')\"\n",
              "              title=\"Convert this dataframe to an interactive table.\"\n",
              "              style=\"display:none;\">\n",
              "        \n",
              "  <svg xmlns=\"http://www.w3.org/2000/svg\" height=\"24px\"viewBox=\"0 0 24 24\"\n",
              "       width=\"24px\">\n",
              "    <path d=\"M0 0h24v24H0V0z\" fill=\"none\"/>\n",
              "    <path d=\"M18.56 5.44l.94 2.06.94-2.06 2.06-.94-2.06-.94-.94-2.06-.94 2.06-2.06.94zm-11 1L8.5 8.5l.94-2.06 2.06-.94-2.06-.94L8.5 2.5l-.94 2.06-2.06.94zm10 10l.94 2.06.94-2.06 2.06-.94-2.06-.94-.94-2.06-.94 2.06-2.06.94z\"/><path d=\"M17.41 7.96l-1.37-1.37c-.4-.4-.92-.59-1.43-.59-.52 0-1.04.2-1.43.59L10.3 9.45l-7.72 7.72c-.78.78-.78 2.05 0 2.83L4 21.41c.39.39.9.59 1.41.59.51 0 1.02-.2 1.41-.59l7.78-7.78 2.81-2.81c.8-.78.8-2.07 0-2.86zM5.41 20L4 18.59l7.72-7.72 1.47 1.35L5.41 20z\"/>\n",
              "  </svg>\n",
              "      </button>\n",
              "      \n",
              "  <style>\n",
              "    .colab-df-container {\n",
              "      display:flex;\n",
              "      flex-wrap:wrap;\n",
              "      gap: 12px;\n",
              "    }\n",
              "\n",
              "    .colab-df-convert {\n",
              "      background-color: #E8F0FE;\n",
              "      border: none;\n",
              "      border-radius: 50%;\n",
              "      cursor: pointer;\n",
              "      display: none;\n",
              "      fill: #1967D2;\n",
              "      height: 32px;\n",
              "      padding: 0 0 0 0;\n",
              "      width: 32px;\n",
              "    }\n",
              "\n",
              "    .colab-df-convert:hover {\n",
              "      background-color: #E2EBFA;\n",
              "      box-shadow: 0px 1px 2px rgba(60, 64, 67, 0.3), 0px 1px 3px 1px rgba(60, 64, 67, 0.15);\n",
              "      fill: #174EA6;\n",
              "    }\n",
              "\n",
              "    [theme=dark] .colab-df-convert {\n",
              "      background-color: #3B4455;\n",
              "      fill: #D2E3FC;\n",
              "    }\n",
              "\n",
              "    [theme=dark] .colab-df-convert:hover {\n",
              "      background-color: #434B5C;\n",
              "      box-shadow: 0px 1px 3px 1px rgba(0, 0, 0, 0.15);\n",
              "      filter: drop-shadow(0px 1px 2px rgba(0, 0, 0, 0.3));\n",
              "      fill: #FFFFFF;\n",
              "    }\n",
              "  </style>\n",
              "\n",
              "      <script>\n",
              "        const buttonEl =\n",
              "          document.querySelector('#df-f72a9e5e-c9a6-4c38-b671-c6231c6ca173 button.colab-df-convert');\n",
              "        buttonEl.style.display =\n",
              "          google.colab.kernel.accessAllowed ? 'block' : 'none';\n",
              "\n",
              "        async function convertToInteractive(key) {\n",
              "          const element = document.querySelector('#df-f72a9e5e-c9a6-4c38-b671-c6231c6ca173');\n",
              "          const dataTable =\n",
              "            await google.colab.kernel.invokeFunction('convertToInteractive',\n",
              "                                                     [key], {});\n",
              "          if (!dataTable) return;\n",
              "\n",
              "          const docLinkHtml = 'Like what you see? Visit the ' +\n",
              "            '<a target=\"_blank\" href=https://colab.research.google.com/notebooks/data_table.ipynb>data table notebook</a>'\n",
              "            + ' to learn more about interactive tables.';\n",
              "          element.innerHTML = '';\n",
              "          dataTable['output_type'] = 'display_data';\n",
              "          await google.colab.output.renderOutput(dataTable, element);\n",
              "          const docLink = document.createElement('div');\n",
              "          docLink.innerHTML = docLinkHtml;\n",
              "          element.appendChild(docLink);\n",
              "        }\n",
              "      </script>\n",
              "    </div>\n",
              "  </div>\n",
              "  "
            ]
          },
          "metadata": {},
          "execution_count": 10
        }
      ]
    },
    {
      "cell_type": "code",
      "source": [
        "df.head()"
      ],
      "metadata": {
        "colab": {
          "base_uri": "https://localhost:8080/",
          "height": 278
        },
        "id": "BI_DKEWXYiIa",
        "outputId": "d700a229-91e0-42ec-a18f-685c27008a53"
      },
      "execution_count": null,
      "outputs": [
        {
          "output_type": "execute_result",
          "data": {
            "text/plain": [
              "   Unnamed: 0               time.updated            time.updatedISO  \\\n",
              "0           0  Jan 16, 2023 08:24:00 UTC  2023-01-16T08:24:00+00:00   \n",
              "\n",
              "              time.updateduk  \\\n",
              "0  Jan 16, 2023 at 08:24 GMT   \n",
              "\n",
              "                                          disclaimer chartName bpi.USD.code  \\\n",
              "0  This data was produced from the CoinDesk Bitco...   Bitcoin          USD   \n",
              "\n",
              "  bpi.USD.symbol bpi.USD.rate   bpi.USD.description  ...  bpi.GBP.code  \\\n",
              "0          &#36;  20,798.0103  United States Dollar  ...           GBP   \n",
              "\n",
              "  bpi.GBP.symbol bpi.GBP.rate     bpi.GBP.description bpi.GBP.rate_float  \\\n",
              "0        &pound;  17,378.6511  British Pound Sterling         17378.6511   \n",
              "\n",
              "   bpi.EUR.code bpi.EUR.symbol bpi.EUR.rate bpi.EUR.description  \\\n",
              "0           EUR         &euro;  20,260.2986                Euro   \n",
              "\n",
              "  bpi.EUR.rate_float  \n",
              "0         20260.2986  \n",
              "\n",
              "[1 rows x 21 columns]"
            ],
            "text/html": [
              "\n",
              "  <div id=\"df-9147bdee-44d6-4a33-b45a-eb156c2ff318\">\n",
              "    <div class=\"colab-df-container\">\n",
              "      <div>\n",
              "<style scoped>\n",
              "    .dataframe tbody tr th:only-of-type {\n",
              "        vertical-align: middle;\n",
              "    }\n",
              "\n",
              "    .dataframe tbody tr th {\n",
              "        vertical-align: top;\n",
              "    }\n",
              "\n",
              "    .dataframe thead th {\n",
              "        text-align: right;\n",
              "    }\n",
              "</style>\n",
              "<table border=\"1\" class=\"dataframe\">\n",
              "  <thead>\n",
              "    <tr style=\"text-align: right;\">\n",
              "      <th></th>\n",
              "      <th>Unnamed: 0</th>\n",
              "      <th>time.updated</th>\n",
              "      <th>time.updatedISO</th>\n",
              "      <th>time.updateduk</th>\n",
              "      <th>disclaimer</th>\n",
              "      <th>chartName</th>\n",
              "      <th>bpi.USD.code</th>\n",
              "      <th>bpi.USD.symbol</th>\n",
              "      <th>bpi.USD.rate</th>\n",
              "      <th>bpi.USD.description</th>\n",
              "      <th>...</th>\n",
              "      <th>bpi.GBP.code</th>\n",
              "      <th>bpi.GBP.symbol</th>\n",
              "      <th>bpi.GBP.rate</th>\n",
              "      <th>bpi.GBP.description</th>\n",
              "      <th>bpi.GBP.rate_float</th>\n",
              "      <th>bpi.EUR.code</th>\n",
              "      <th>bpi.EUR.symbol</th>\n",
              "      <th>bpi.EUR.rate</th>\n",
              "      <th>bpi.EUR.description</th>\n",
              "      <th>bpi.EUR.rate_float</th>\n",
              "    </tr>\n",
              "  </thead>\n",
              "  <tbody>\n",
              "    <tr>\n",
              "      <th>0</th>\n",
              "      <td>0</td>\n",
              "      <td>Jan 16, 2023 08:24:00 UTC</td>\n",
              "      <td>2023-01-16T08:24:00+00:00</td>\n",
              "      <td>Jan 16, 2023 at 08:24 GMT</td>\n",
              "      <td>This data was produced from the CoinDesk Bitco...</td>\n",
              "      <td>Bitcoin</td>\n",
              "      <td>USD</td>\n",
              "      <td>&amp;#36;</td>\n",
              "      <td>20,798.0103</td>\n",
              "      <td>United States Dollar</td>\n",
              "      <td>...</td>\n",
              "      <td>GBP</td>\n",
              "      <td>&amp;pound;</td>\n",
              "      <td>17,378.6511</td>\n",
              "      <td>British Pound Sterling</td>\n",
              "      <td>17378.6511</td>\n",
              "      <td>EUR</td>\n",
              "      <td>&amp;euro;</td>\n",
              "      <td>20,260.2986</td>\n",
              "      <td>Euro</td>\n",
              "      <td>20260.2986</td>\n",
              "    </tr>\n",
              "  </tbody>\n",
              "</table>\n",
              "<p>1 rows × 21 columns</p>\n",
              "</div>\n",
              "      <button class=\"colab-df-convert\" onclick=\"convertToInteractive('df-9147bdee-44d6-4a33-b45a-eb156c2ff318')\"\n",
              "              title=\"Convert this dataframe to an interactive table.\"\n",
              "              style=\"display:none;\">\n",
              "        \n",
              "  <svg xmlns=\"http://www.w3.org/2000/svg\" height=\"24px\"viewBox=\"0 0 24 24\"\n",
              "       width=\"24px\">\n",
              "    <path d=\"M0 0h24v24H0V0z\" fill=\"none\"/>\n",
              "    <path d=\"M18.56 5.44l.94 2.06.94-2.06 2.06-.94-2.06-.94-.94-2.06-.94 2.06-2.06.94zm-11 1L8.5 8.5l.94-2.06 2.06-.94-2.06-.94L8.5 2.5l-.94 2.06-2.06.94zm10 10l.94 2.06.94-2.06 2.06-.94-2.06-.94-.94-2.06-.94 2.06-2.06.94z\"/><path d=\"M17.41 7.96l-1.37-1.37c-.4-.4-.92-.59-1.43-.59-.52 0-1.04.2-1.43.59L10.3 9.45l-7.72 7.72c-.78.78-.78 2.05 0 2.83L4 21.41c.39.39.9.59 1.41.59.51 0 1.02-.2 1.41-.59l7.78-7.78 2.81-2.81c.8-.78.8-2.07 0-2.86zM5.41 20L4 18.59l7.72-7.72 1.47 1.35L5.41 20z\"/>\n",
              "  </svg>\n",
              "      </button>\n",
              "      \n",
              "  <style>\n",
              "    .colab-df-container {\n",
              "      display:flex;\n",
              "      flex-wrap:wrap;\n",
              "      gap: 12px;\n",
              "    }\n",
              "\n",
              "    .colab-df-convert {\n",
              "      background-color: #E8F0FE;\n",
              "      border: none;\n",
              "      border-radius: 50%;\n",
              "      cursor: pointer;\n",
              "      display: none;\n",
              "      fill: #1967D2;\n",
              "      height: 32px;\n",
              "      padding: 0 0 0 0;\n",
              "      width: 32px;\n",
              "    }\n",
              "\n",
              "    .colab-df-convert:hover {\n",
              "      background-color: #E2EBFA;\n",
              "      box-shadow: 0px 1px 2px rgba(60, 64, 67, 0.3), 0px 1px 3px 1px rgba(60, 64, 67, 0.15);\n",
              "      fill: #174EA6;\n",
              "    }\n",
              "\n",
              "    [theme=dark] .colab-df-convert {\n",
              "      background-color: #3B4455;\n",
              "      fill: #D2E3FC;\n",
              "    }\n",
              "\n",
              "    [theme=dark] .colab-df-convert:hover {\n",
              "      background-color: #434B5C;\n",
              "      box-shadow: 0px 1px 3px 1px rgba(0, 0, 0, 0.15);\n",
              "      filter: drop-shadow(0px 1px 2px rgba(0, 0, 0, 0.3));\n",
              "      fill: #FFFFFF;\n",
              "    }\n",
              "  </style>\n",
              "\n",
              "      <script>\n",
              "        const buttonEl =\n",
              "          document.querySelector('#df-9147bdee-44d6-4a33-b45a-eb156c2ff318 button.colab-df-convert');\n",
              "        buttonEl.style.display =\n",
              "          google.colab.kernel.accessAllowed ? 'block' : 'none';\n",
              "\n",
              "        async function convertToInteractive(key) {\n",
              "          const element = document.querySelector('#df-9147bdee-44d6-4a33-b45a-eb156c2ff318');\n",
              "          const dataTable =\n",
              "            await google.colab.kernel.invokeFunction('convertToInteractive',\n",
              "                                                     [key], {});\n",
              "          if (!dataTable) return;\n",
              "\n",
              "          const docLinkHtml = 'Like what you see? Visit the ' +\n",
              "            '<a target=\"_blank\" href=https://colab.research.google.com/notebooks/data_table.ipynb>data table notebook</a>'\n",
              "            + ' to learn more about interactive tables.';\n",
              "          element.innerHTML = '';\n",
              "          dataTable['output_type'] = 'display_data';\n",
              "          await google.colab.output.renderOutput(dataTable, element);\n",
              "          const docLink = document.createElement('div');\n",
              "          docLink.innerHTML = docLinkHtml;\n",
              "          element.appendChild(docLink);\n",
              "        }\n",
              "      </script>\n",
              "    </div>\n",
              "  </div>\n",
              "  "
            ]
          },
          "metadata": {},
          "execution_count": 6
        }
      ]
    },
    {
      "cell_type": "code",
      "source": [],
      "metadata": {
        "id": "t3_e5aI7d3xm"
      },
      "execution_count": null,
      "outputs": []
    }
  ]
}