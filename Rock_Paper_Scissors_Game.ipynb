{
  "cells": [
    {
      "cell_type": "code",
      "execution_count": null,
      "metadata": {
        "id": "S8IGCejC358_"
      },
      "outputs": [],
      "source": [
        "import pandas as pd\n",
        "import numpy as np\n",
        "import matplotlib.pyplot as plt\n",
        "import seaborn as sns"
      ]
    },
    {
      "cell_type": "code",
      "execution_count": null,
      "metadata": {
        "colab": {
          "base_uri": "https://localhost:8080/"
        },
        "id": "tdPqLRwWiJ2x",
        "outputId": "b0779301-eae7-49e4-9a25-99619b9832b3"
      },
      "outputs": [
        {
          "name": "stdout",
          "output_type": "stream",
          "text": [
            "It's a tie!\n"
          ]
        }
      ],
      "source": [
        "if a == b:\n",
        "    print(\"It's a tie!\")\n",
        "elif a == \"R\":\n",
        "    if b == \"S\":\n",
        "        print(\"Player 1 win\")\n",
        "    else:\n",
        "        print(\"Player 2 win\")\n",
        "elif a == \"P\":\n",
        "    if b == \"R\":\n",
        "        print(\"Player 1 win\")\n",
        "    else:\n",
        "        print(\"Player 2 win\")\n",
        "elif a == \"S\":\n",
        "    if b == \"P\":\n",
        "        print(\"Player 1 win\")\n",
        "    else:\n",
        "        print(\"Player 2 win\")"
      ]
    },
    {
      "cell_type": "code",
      "execution_count": null,
      "metadata": {
        "id": "oFvX9ouyOQXh"
      },
      "outputs": [],
      "source": [
        "def again():\n",
        "  if input(\"Continue?(Y/N) \") == 'Y':\n",
        "    guessing()\n",
        "  else:\n",
        "    exit"
      ]
    },
    {
      "cell_type": "code",
      "execution_count": null,
      "metadata": {
        "id": "2QwM8nYjDcJZ"
      },
      "outputs": [],
      "source": [
        "def guessing():\n",
        "#  while True:\n",
        "    a = input(\"Player 1 input (R,P,S): \")\n",
        "    b = input(\"Player 2 input (R,P,S): \")\n",
        "    if a == b:\n",
        "      print(\"It's a tie!\")\n",
        "    elif a == \"R\":\n",
        "      if b == \"S\":\n",
        "        print(\"Player 1 win\")\n",
        "      else:\n",
        "        print(\"Player 2 win\")  \n",
        "    elif a == \"P\":\n",
        "      if b == \"R\":\n",
        "        print(\"Player 1 win\")\n",
        "      else:\n",
        "        print(\"Player 2 win\")\n",
        "    elif a == \"S\":\n",
        "      if b == \"P\":\n",
        "        print(\"Player 1 win\")\n",
        "      else:\n",
        "        print(\"Player 2 win\")   \n",
        "    again()"
      ]
    },
    {
      "cell_type": "code",
      "execution_count": null,
      "metadata": {
        "colab": {
          "base_uri": "https://localhost:8080/",
          "height": 331
        },
        "id": "FDnPQnvaNwK-",
        "outputId": "3b3f857e-e754-4aa2-e62e-17008c6a74ed"
      },
      "outputs": [
        {
          "name": "stdout",
          "output_type": "stream",
          "text": [
            "Player 1 input (R,P,S): R\n",
            "Player 2 input (R,P,S): P\n"
          ]
        },
        {
          "output_type": "error",
          "ename": "NameError",
          "evalue": "ignored",
          "traceback": [
            "\u001b[0;31m---------------------------------------------------------------------------\u001b[0m",
            "\u001b[0;31mNameError\u001b[0m                                 Traceback (most recent call last)",
            "\u001b[0;32m<ipython-input-23-3924d68b82f8>\u001b[0m in \u001b[0;36m<module>\u001b[0;34m\u001b[0m\n\u001b[0;32m----> 1\u001b[0;31m \u001b[0mguessing\u001b[0m\u001b[0;34m(\u001b[0m\u001b[0;34m)\u001b[0m\u001b[0;34m\u001b[0m\u001b[0;34m\u001b[0m\u001b[0m\n\u001b[0m",
            "\u001b[0;32m<ipython-input-22-c4ea93556ce8>\u001b[0m in \u001b[0;36mguessing\u001b[0;34m()\u001b[0m\n\u001b[1;32m     10\u001b[0m         \u001b[0mprint\u001b[0m\u001b[0;34m(\u001b[0m\u001b[0;34m\"Player 1 win\"\u001b[0m\u001b[0;34m)\u001b[0m\u001b[0;34m\u001b[0m\u001b[0;34m\u001b[0m\u001b[0m\n\u001b[1;32m     11\u001b[0m       \u001b[0;32melse\u001b[0m\u001b[0;34m:\u001b[0m\u001b[0;34m\u001b[0m\u001b[0;34m\u001b[0m\u001b[0m\n\u001b[0;32m---> 12\u001b[0;31m         \u001b[0mw\u001b[0m\u001b[0;34m=\u001b[0m\u001b[0mp2\u001b[0m\u001b[0;34m\u001b[0m\u001b[0;34m\u001b[0m\u001b[0m\n\u001b[0m\u001b[1;32m     13\u001b[0m         \u001b[0mprint\u001b[0m\u001b[0;34m(\u001b[0m\u001b[0;34m\"Player 2 win\"\u001b[0m\u001b[0;34m)\u001b[0m\u001b[0;34m\u001b[0m\u001b[0;34m\u001b[0m\u001b[0m\n\u001b[1;32m     14\u001b[0m     \u001b[0;32melif\u001b[0m \u001b[0ma\u001b[0m \u001b[0;34m==\u001b[0m \u001b[0;34m\"P\"\u001b[0m\u001b[0;34m:\u001b[0m\u001b[0;34m\u001b[0m\u001b[0;34m\u001b[0m\u001b[0m\n",
            "\u001b[0;31mNameError\u001b[0m: name 'p2' is not defined"
          ]
        }
      ],
      "source": [
        "guessing()"
      ]
    },
    {
      "cell_type": "code",
      "source": [],
      "metadata": {
        "id": "bO7zc2wIeiZd"
      },
      "execution_count": null,
      "outputs": []
    }
  ],
  "metadata": {
    "colab": {
      "provenance": []
    },
    "kernelspec": {
      "display_name": "Python 3",
      "name": "python3"
    },
    "language_info": {
      "name": "python"
    }
  },
  "nbformat": 4,
  "nbformat_minor": 0
}