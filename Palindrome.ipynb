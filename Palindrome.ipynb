{
  "nbformat": 4,
  "nbformat_minor": 0,
  "metadata": {
    "colab": {
      "provenance": []
    },
    "kernelspec": {
      "name": "python3",
      "display_name": "Python 3"
    },
    "language_info": {
      "name": "python"
    }
  },
  "cells": [
    {
      "cell_type": "code",
      "execution_count": null,
      "metadata": {
        "id": "1mlLCPssTsRw"
      },
      "outputs": [],
      "source": [
        "import pandas as pd\n",
        "import numpy as np\n",
        "import matplotlib.pyplot as plt\n",
        "import seaborn as sns"
      ]
    },
    {
      "cell_type": "code",
      "source": [
        "str = input(\"Enter your string: \")"
      ],
      "metadata": {
        "colab": {
          "base_uri": "https://localhost:8080/"
        },
        "id": "LA6pghWqUEDq",
        "outputId": "42834789-330f-4c19-f8d5-2266ce615c9f"
      },
      "execution_count": null,
      "outputs": [
        {
          "name": "stdout",
          "output_type": "stream",
          "text": [
            "Enter your string: jiof\n"
          ]
        }
      ]
    },
    {
      "cell_type": "code",
      "source": [
        "str = str.lower()"
      ],
      "metadata": {
        "id": "TU5IS08sjOl8"
      },
      "execution_count": null,
      "outputs": []
    },
    {
      "cell_type": "code",
      "source": [
        "def isPalindrome(s):\n",
        "  if s == s[::-1]:\n",
        "    print(\"Palindrome\")\n",
        "  else:\n",
        "    print(\"NOT Palindrome\")"
      ],
      "metadata": {
        "id": "7Fib8mzXkYVw"
      },
      "execution_count": null,
      "outputs": []
    },
    {
      "cell_type": "code",
      "source": [
        "isPalindrome(str)"
      ],
      "metadata": {
        "colab": {
          "base_uri": "https://localhost:8080/"
        },
        "id": "qvwolAkahKSN",
        "outputId": "fef21efe-0ceb-49af-b533-c64ddc0a4619"
      },
      "execution_count": null,
      "outputs": [
        {
          "output_type": "stream",
          "name": "stdout",
          "text": [
            "NOT Palindrome\n"
          ]
        }
      ]
    },
    {
      "cell_type": "code",
      "source": [],
      "metadata": {
        "id": "J9g5zKw8iftR"
      },
      "execution_count": null,
      "outputs": []
    }
  ]
}