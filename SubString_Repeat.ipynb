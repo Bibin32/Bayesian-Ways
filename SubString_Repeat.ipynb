{
  "nbformat": 4,
  "nbformat_minor": 0,
  "metadata": {
    "colab": {
      "provenance": []
    },
    "kernelspec": {
      "name": "python3",
      "display_name": "Python 3"
    },
    "language_info": {
      "name": "python"
    }
  },
  "cells": [
    {
      "cell_type": "code",
      "execution_count": null,
      "metadata": {
        "id": "Z0OoVTg9k4yy"
      },
      "outputs": [],
      "source": [
        "import pandas as pd\n",
        "import numpy as np\n",
        "import matplotlib.pyplot as plt\n",
        "import seaborn as sns"
      ]
    },
    {
      "cell_type": "code",
      "source": [
        "str = input(\"Enter your string: \")"
      ],
      "metadata": {
        "colab": {
          "base_uri": "https://localhost:8080/"
        },
        "id": "XkYayt_JlT5j",
        "outputId": "02dad719-dd3b-405f-e708-e1ad6e17a2f1"
      },
      "execution_count": null,
      "outputs": [
        {
          "name": "stdout",
          "output_type": "stream",
          "text": [
            "Enter your string: has\n"
          ]
        }
      ]
    },
    {
      "cell_type": "code",
      "source": [
        "str = str.lower()"
      ],
      "metadata": {
        "id": "DQ3FGIw5llHD"
      },
      "execution_count": null,
      "outputs": []
    },
    {
      "cell_type": "code",
      "source": [
        "substr = input(\"Enter your sub-string: \")"
      ],
      "metadata": {
        "colab": {
          "base_uri": "https://localhost:8080/"
        },
        "id": "51B6z4JdlZ3H",
        "outputId": "a922c485-3163-4bcd-fc81-3018bfa189a3"
      },
      "execution_count": null,
      "outputs": [
        {
          "name": "stdout",
          "output_type": "stream",
          "text": [
            "Enter your sub-string: has has has\n"
          ]
        }
      ]
    },
    {
      "cell_type": "code",
      "source": [
        "substr = substr.lower()"
      ],
      "metadata": {
        "id": "hemC5A_Dlhl3"
      },
      "execution_count": null,
      "outputs": []
    },
    {
      "cell_type": "code",
      "source": [
        "l=len(str)"
      ],
      "metadata": {
        "id": "fkbSGQP8mQvt"
      },
      "execution_count": null,
      "outputs": []
    },
    {
      "cell_type": "code",
      "source": [
        "l1=len(substr)"
      ],
      "metadata": {
        "id": "qoDia8g6oMdM"
      },
      "execution_count": null,
      "outputs": []
    },
    {
      "cell_type": "code",
      "source": [
        "l2=l1"
      ],
      "metadata": {
        "id": "wpyZHjo62QtF"
      },
      "execution_count": null,
      "outputs": []
    },
    {
      "cell_type": "code",
      "source": [
        "#i=0\n",
        "#h=0\n",
        "#for i in range(l):\n",
        "#  print(str[h:l1])\n",
        "#  h+=1\n",
        "#  l1+=1\n"
      ],
      "metadata": {
        "id": "Kv82v-6Ro4n2"
      },
      "execution_count": null,
      "outputs": []
    },
    {
      "cell_type": "code",
      "source": [
        "#str[0:3]"
      ],
      "metadata": {
        "id": "1aj0X6KHmkuZ"
      },
      "execution_count": null,
      "outputs": []
    },
    {
      "cell_type": "code",
      "source": [
        "i=0\n",
        "h=0\n",
        "count=0\n",
        "for i in range(l):\n",
        "  if l2>l:\n",
        "    print(\"NOT A SUBSTRING\")\n",
        "    break\n",
        "  elif substr == str[h:l1]:\n",
        "    count+=1\n",
        "    h+=1\n",
        "    l1+=1\n",
        "  else:\n",
        "    h+=1\n",
        "    l1+=1"
      ],
      "metadata": {
        "id": "twn2nUGrmvL8",
        "colab": {
          "base_uri": "https://localhost:8080/"
        },
        "outputId": "e6370eb6-41a5-4673-9a30-103406089ee4"
      },
      "execution_count": null,
      "outputs": [
        {
          "output_type": "stream",
          "name": "stdout",
          "text": [
            "NOT A SUBSTRING\n"
          ]
        }
      ]
    },
    {
      "cell_type": "code",
      "source": [
        "print(count)"
      ],
      "metadata": {
        "id": "3mGHTE3wrX-q",
        "colab": {
          "base_uri": "https://localhost:8080/"
        },
        "outputId": "89448bd2-4391-4112-dc84-dea446dfe616"
      },
      "execution_count": null,
      "outputs": [
        {
          "output_type": "stream",
          "name": "stdout",
          "text": [
            "0\n"
          ]
        }
      ]
    }
  ]
}